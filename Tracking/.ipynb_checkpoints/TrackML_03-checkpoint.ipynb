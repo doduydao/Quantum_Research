{
 "cells": [
  {
   "cell_type": "markdown",
   "id": "3850eb2b-3568-47eb-9c76-4f7ec35f6570",
   "metadata": {},
   "source": [
    "### Read particles"
   ]
  },
  {
   "cell_type": "code",
   "execution_count": 8,
   "id": "d7e91f8e-84c3-4f5b-a200-1a02ceef6109",
   "metadata": {},
   "outputs": [],
   "source": [
    "import csv\n",
    "import pandas as pd"
   ]
  },
  {
   "cell_type": "code",
   "execution_count": 9,
   "id": "1f4c9501-8afa-406f-ba51-5a28d0a54e1f",
   "metadata": {},
   "outputs": [],
   "source": [
    "dataset = pd.read_csv('event000001000/event000001000-particles.csv')"
   ]
  },
  {
   "cell_type": "code",
   "execution_count": 10,
   "id": "99e8edef-1be8-458f-8b77-523360ad32d4",
   "metadata": {},
   "outputs": [
    {
     "name": "stdout",
     "output_type": "stream",
     "text": [
      "              particle_id          vx          vy           vz         px  \\\n",
      "0        4503668346847232   -0.009288    0.009861    -0.077879  -0.055269   \n",
      "1        4503737066323968   -0.009288    0.009861    -0.077879  -0.948125   \n",
      "2        4503805785800704   -0.009288    0.009861    -0.077879  -0.886484   \n",
      "3        4503874505277440   -0.009288    0.009861    -0.077879   0.257539   \n",
      "4        4503943224754176   -0.009288    0.009861    -0.077879  16.439400   \n",
      "...                   ...         ...         ...          ...        ...   \n",
      "12258  968305530860736513 -171.641000  302.668000 -1220.000000  -0.110735   \n",
      "12259  968305530860740610 -171.641000  302.668000 -1220.000000   0.000191   \n",
      "12260  968306149319245824   33.448100   20.703400  -102.515000   0.486316   \n",
      "12261  968306218038722560   33.448100   20.703400  -102.515000   0.082110   \n",
      "12262  968307936025640960   -0.004181    0.004748    -5.128840  -0.158693   \n",
      "\n",
      "              py         pz  q  nhits  \n",
      "0       0.323272  -0.203492 -1      8  \n",
      "1       0.470892   2.010060  1     11  \n",
      "2       0.105749   0.683881 -1      0  \n",
      "3      -0.676718   0.991616  1     12  \n",
      "4     -15.548900 -39.824900  1      3  \n",
      "...          ...        ... ..    ...  \n",
      "12258  -0.058300  -0.137469  1      0  \n",
      "12259  -0.169234  -0.248553  1      4  \n",
      "12260   0.268579  -1.227300  1     10  \n",
      "12261   0.084122  -0.415145 -1      1  \n",
      "12262  -0.093017   0.057719  1      2  \n",
      "\n",
      "[12263 rows x 9 columns]\n"
     ]
    }
   ],
   "source": [
    "print(dataset)"
   ]
  },
  {
   "cell_type": "code",
   "execution_count": null,
   "id": "e7a13760-ac9f-45c9-96fa-6ccfc418940c",
   "metadata": {},
   "outputs": [],
   "source": []
  }
 ],
 "metadata": {
  "kernelspec": {
   "display_name": "Python 3 (ipykernel)",
   "language": "python",
   "name": "python3"
  },
  "language_info": {
   "codemirror_mode": {
    "name": "ipython",
    "version": 3
   },
   "file_extension": ".py",
   "mimetype": "text/x-python",
   "name": "python",
   "nbconvert_exporter": "python",
   "pygments_lexer": "ipython3",
   "version": "3.9.14"
  }
 },
 "nbformat": 4,
 "nbformat_minor": 5
}
