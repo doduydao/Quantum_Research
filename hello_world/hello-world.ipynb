{
 "cells": [
  {
   "cell_type": "markdown",
   "id": "552b1077",
   "metadata": {},
   "source": [
    "# Hello world\n",
    "\n",
    "This Hello world example creates a simple quantum program and runs it on a quantum system. Begin with following the [Install and set up](install) instructions if you haven't already, including the steps to [Set up to use IBM Quantum Platform](setup-channel#set-up-to-use-ibm-quantum-platform).\n",
    "\n",
    "We recommend that you use the [Jupyter](https://jupyter.org/install) development environment to interact with quantum computers. Be sure to install the recommended extra visualization support (`pip install qiskit[visualization]`), and note that zsh users need to put `'qiskit[visualization]'` in single quotes.\n",
    "\n",
    "To learn about quantum computing in general, check out the [Basics of quantum information course](https://learning.quantum.ibm.com/course/basics-of-quantum-information) in IBM Quantum Learning.\n",
    "\n",
    "The four steps to writing a quantum program are\n",
    "\n",
    "1.  Map the problem to a quantum-native format\n",
    "\n",
    "2.  Optimize the circuits and operators\n",
    "\n",
    "3.  Execute using a quantum primitive function\n",
    "\n",
    "4.  Analyze the results\n",
    "\n",
    "## Step 1. Map the problem to a quantum-native format\n"
   ]
  },
  {
   "cell_type": "markdown",
   "id": "85fe979e",
   "metadata": {
    "raw_mimetype": "text/restructuredtext"
   },
   "source": [
    "In a quantum program, *quantum circuits* are the native format in which to represent quantum instructions, and *operators* represent the observables to be measured. When creating a circuit, you'll usually create a new [`QuantumCircuit`](/api/qiskit/qiskit.circuit.QuantumCircuit#quantumcircuit) object, then add instructions to it in sequence.\n"
   ]
  },
  {
   "cell_type": "markdown",
   "id": "21f7a26c",
   "metadata": {},
   "source": [
    "The following code cell creates a circuit that produces a *Bell state,* which is a specific two-qubit entangled state.\n",
    "\n",
    "<Admonition type=\"note\" title=\"Note: bit ordering\">\n",
    "  Qiskit uses the LSb 0 bit numbering where the $n^{th}$ digit has value $1 \\ll n$ or $2^n$. Because we usually write numbers on paper with the most significant digits to the left and the least significant digits to the right (in the Hindu-Arabic system used in most of the world), this has the consequence that the bits are labeled with indices increasing <b>from right to left</b>. This LSb 0 convention makes mathematics easier and is the most commonly used for modern digital electronics, although the opposite convention MSb 0 is also found in some domains. Converting the $i^{th}$ index between LSb 0 and MSb 0 conventions on an $n$-bit register is as simple as $i \\rightarrow n-i-1$. This differs across authors and software packages, so be aware!\n",
    "</Admonition>\n"
   ]
  },
  {
   "cell_type": "code",
   "execution_count": 5,
   "id": "930ca3b6",
   "metadata": {},
   "outputs": [
    {
     "data": {
      "image/png": "[encoded data removed]",
      "text/plain": [
       "<Figure size 287.294x200.667 with 1 Axes>"
      ]
     },
     "execution_count": 5,
     "metadata": {},
     "output_type": "execute_result"
    }
   ],
   "source": [
    "from qiskit import QuantumCircuit\n",
    "\n",
    "# Create a new circuit with two qubits (first argument) and two classical\n",
    "# bits (second argument)\n",
    "qc = QuantumCircuit(2)\n",
    "\n",
    "# Add a Hadamard gate to qubit 0\n",
    "qc.h(0)\n",
    "\n",
    "# Perform a controlled-X gate on qubit 1, controlled by qubit 0\n",
    "qc.cx(0, 1)\n",
    "\n",
    "# Return a drawing of the circuit using MatPlotLib (\"mpl\"). This is the\n",
    "# last line of the cell, so the drawing appears in the cell output.\n",
    "# Remove the \"mpl\" argument to get a text drawing.\n",
    "qc.draw(\"mpl\")"
   ]
  },
  {
   "cell_type": "markdown",
   "id": "0c957de9",
   "metadata": {
    "raw_mimetype": "text/restructuredtext"
   },
   "source": [
    "See [`QuantumCircuit`](/api/qiskit/qiskit.circuit.QuantumCircuit#quantumcircuit) in the documentation for all available operations.\n"
   ]
  },
  {
   "cell_type": "markdown",
   "id": "f3ef4248-7938-44c1-85f1-edc997f0edcd",
   "metadata": {},
   "source": [
    "The following code cell uses the `quantum_info` package to create the two-qubit Pauli operator Z on qubit 1 and Z on qubit 2. If the state is entangled, then the correlation between qubit 1 and qubit 2 is one.\n"
   ]
  },
  {
   "cell_type": "code",
   "execution_count": 6,
   "id": "c57b261c-b757-4432-beab-61b526c98a41",
   "metadata": {},
   "outputs": [],
   "source": [
    "from qiskit.quantum_info import Pauli\n",
    "\n",
    "ZZ = Pauli('ZZ')\n",
    "ZI = Pauli('ZI')\n",
    "IZ = Pauli('IZ')\n",
    "XX = Pauli('XX')\n",
    "XI = Pauli('XI')\n",
    "IX = Pauli('IX')"
   ]
  },
  {
   "cell_type": "markdown",
   "id": "83bf9151-3bc9-40d2-8615-31570238b08e",
   "metadata": {},
   "source": [
    "## Step 2. Optimize the circuits and operators\n",
    "\n",
    "For this example, the circuit the operators are simple, so no optimizations are needed.\n"
   ]
  },
  {
   "cell_type": "markdown",
   "id": "9acac1d4",
   "metadata": {},
   "source": [
    "## Step 3. Execute using a quantum primitive function\n",
    "\n",
    "Quantum computers can produce random results, so you'll often want to collect a sample of the outputs by running the circuit many times. You can estimate the value of the observable using the `Estimator` class. `Estimator` is one of our two [primitives](../run/primitives-get-started); the other is `Sampler`, which can be used to get data from a quantum computer.\n"
   ]
  },
  {
   "cell_type": "code",
   "execution_count": 8,
   "id": "69a8d872",
   "metadata": {},
   "outputs": [
    {
     "data": {
      "text/plain": [
       "EstimatorResult(values=array([ 0.01391046, -0.01260635, -0.00859861, -0.01555939,  1.01167283,\n",
       "        1.00098144]), metadata=[{'variance': 1.1846239967868961, 'shots': 5008, 'readout_mitigation_num_twirled_circuits': 16, 'readout_mitigation_shots_calibration': 8192, 'warning': 'Optimization level clipped from 3 to 1'}, {'variance': 1.1846585774964282, 'shots': 5008, 'readout_mitigation_num_twirled_circuits': 16, 'readout_mitigation_shots_calibration': 8192, 'warning': 'Optimization level clipped from 3 to 1'}, {'variance': 1.0511284273507069, 'shots': 5008, 'readout_mitigation_num_twirled_circuits': 16, 'readout_mitigation_shots_calibration': 8192, 'warning': 'Optimization level clipped from 3 to 1'}, {'variance': 1.0509602689328503, 'shots': 5008, 'readout_mitigation_num_twirled_circuits': 16, 'readout_mitigation_shots_calibration': 8192, 'warning': 'Optimization level clipped from 3 to 1'}, {'variance': 0.2207878644098606, 'shots': 5008, 'readout_mitigation_num_twirled_circuits': 16, 'readout_mitigation_shots_calibration': 8192, 'warning': 'Optimization level clipped from 3 to 1'}, {'variance': 0.24230593709142356, 'shots': 5008, 'readout_mitigation_num_twirled_circuits': 16, 'readout_mitigation_shots_calibration': 8192, 'warning': 'Optimization level clipped from 3 to 1'}])"
      ]
     },
     "execution_count": 8,
     "metadata": {},
     "output_type": "execute_result"
    }
   ],
   "source": [
    "from qiskit_ibm_runtime import QiskitRuntimeService, Estimator, Options\n",
    "\n",
    "service = QiskitRuntimeService(channel=\"ibm_quantum\", token=\"2dda18374194f832ec97114e69bec4e90eafdab292c262d917748605e3ba208fad42256cffa2c52f6e83db2059cc42a77031944ef7b3c7177250374cb6823a37\")\n",
    "\n",
    "# Run on the least-busy backend you have access to\n",
    "backend = service.least_busy(simulator=False, operational=True)\n",
    "\n",
    "options = Options()\n",
    "options.resilience_level = 1\n",
    "options.optimization_level = 3\n",
    "\n",
    "# Create an Estimator object\n",
    "estimator = Estimator(backend, options=options)\n",
    "\n",
    "# Submit the circuit to Estimator\n",
    "job = estimator.run(circuits=[qc]*6, observables=[IZ, IX, ZI, XI, ZZ, XX], shots = 5000)\n",
    "\n",
    "# Once the job is complete, get the result\n",
    "job.result()"
   ]
  },
  {
   "cell_type": "markdown",
   "id": "e3ac728c",
   "metadata": {},
   "source": [
    "<Admonition type=\"note\" title=\"Queue times\">\n",
    "  Queue times on real devices may vary. If you would like to get a faster result, replace the `backend =` line with the following instead:\n",
    "\n",
    "  ```python\n",
    "\n",
    "\n",
    "\n",
    "  # Run on a simulator\n",
    "\n",
    "\n",
    "\n",
    "  backend = service.get_backend(\"ibmq_qasm_simulator\")\n",
    "\n",
    "\n",
    "\n",
    "  ```\n",
    "</Admonition>\n"
   ]
  },
  {
   "cell_type": "markdown",
   "id": "dc5ce1eb",
   "metadata": {},
   "source": [
    "The `values` property is a list of expectation values for each of the observables we provided.\n"
   ]
  },
  {
   "cell_type": "markdown",
   "id": "0d5ea9a0",
   "metadata": {},
   "source": [
    "## Step 4. Analyze the results\n"
   ]
  },
  {
   "cell_type": "code",
   "execution_count": 9,
   "id": "57a82991-3ae9-400f-b8be-f8eb1fea79c5",
   "metadata": {},
   "outputs": [
    {
     "data": {
      "image/png": "[encoded data removed]",
      "text/plain": [
       "<Figure size 640x480 with 1 Axes>"
      ]
     },
     "metadata": {},
     "output_type": "display_data"
    }
   ],
   "source": [
    "import matplotlib.pyplot as plt\n",
    "import numpy as np\n",
    " \n",
    "# data\n",
    "data = ['IZ', 'IX', 'ZI', 'XI', 'ZZ', 'XX']\n",
    "values = job.result().values\n",
    " \n",
    "# creating error bars\n",
    "error = []\n",
    "for case in job.result().metadata:\n",
    "    error.append(2*np.sqrt(case['variance']/case['shots']))\n",
    " \n",
    "# plotting graph\n",
    "plt.plot(data, values)\n",
    "plt.errorbar(data, values, yerr = error, fmt ='o')\n",
    "plt.xlabel('Observables')\n",
    "plt.ylabel('Values')\n",
    "plt.show()"
   ]
  },
  {
   "cell_type": "markdown",
   "id": "b9a76788-3c34-4382-88f1-fc7ce9dc7234",
   "metadata": {},
   "source": [
    "Here we see that for qubits 0 and 1, the independent values of both X and Z are zero, while the correlations are one. This is a hallmark of quantum entanglement.\n"
   ]
  },
  {
   "cell_type": "markdown",
   "id": "e7c24c81",
   "metadata": {},
   "source": [
    "## Next steps\n",
    "\n",
    "<Admonition type=\"tip\" title=\"Recommendations\">\n",
    "  *   Learn how to [build circuits](../build/) in more detail.\n",
    "\n",
    "  *   Try one of the [workflow example tutorials.](https://learning.quantum.ibm.com/catalog/tutorials?category=workflow-example)\n",
    "</Admonition>\n"
   ]
  }
 ],
 "metadata": {
  "celltoolbar": "Raw Cell Format",
  "description": "Get started using Qiskit with IBM Quantum hardware in this Hello World example",
  "kernelspec": {
   "display_name": "Python 3 (ipykernel)",
   "language": "python",
   "name": "python3"
  },
  "language_info": {
   "codemirror_mode": {
    "name": "ipython",
    "version": 3
   },
   "file_extension": ".py",
   "mimetype": "text/x-python",
   "name": "python",
   "nbconvert_exporter": "python",
   "pygments_lexer": "ipython3",
   "version": "3.11.5"
  },
  "title": "Hello world"
 },
 "nbformat": 4,
 "nbformat_minor": 5
}
